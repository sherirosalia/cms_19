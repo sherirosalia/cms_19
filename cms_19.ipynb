{
  "nbformat": 4,
  "nbformat_minor": 0,
  "metadata": {
    "colab": {
      "name": "cms_19.ipynb",
      "provenance": [],
      "private_outputs": true,
      "collapsed_sections": [],
      "machine_shape": "hm",
      "authorship_tag": "ABX9TyORI81zqrlwC3COe9Yp3Te3"
    },
    "kernelspec": {
      "name": "python3",
      "display_name": "Python 3"
    }
  },
  "cells": [
    {
      "cell_type": "markdown",
      "metadata": {
        "id": "YYdXNfAQduRa"
      },
      "source": [
        "CMS 2019 CSV files:\n",
        "physicians, ownership and research \n",
        "prep for transfer to SQL\n"
      ]
    },
    {
      "cell_type": "code",
      "metadata": {
        "id": "Z3ZfwZXiDlOM"
      },
      "source": [
        "#import dependencies\n",
        "import pandas as pd\n",
        "import numpy as np\n",
        "import matplotlib.pyplot as plt\n",
        "import re\n",
        "from datetime import date, datetime\n",
        "import os, sys \n",
        "import io\n",
        "import ee\n",
        "import os"
      ],
      "execution_count": null,
      "outputs": []
    },
    {
      "cell_type": "markdown",
      "metadata": {
        "id": "_o80E9KNe0co"
      },
      "source": [
        "set options:"
      ]
    },
    {
      "cell_type": "code",
      "metadata": {
        "id": "1AHCePigEIB0"
      },
      "source": [
        "# set_options to warn when working on a copy\n",
        "pd.set_option('mode.chained_assignment','warn')"
      ],
      "execution_count": null,
      "outputs": []
    },
    {
      "cell_type": "code",
      "metadata": {
        "id": "f8_7PFALEISl"
      },
      "source": [
        "# dataframe will display without being truncated\n",
        "pd.set_option('display.max_rows', 150)\n",
        "pd.set_option('display.max_columns', 100)\n",
        "# pd.set_option('display.width', 768)"
      ],
      "execution_count": null,
      "outputs": []
    },
    {
      "cell_type": "markdown",
      "metadata": {
        "id": "QwiSBZSZe5PP"
      },
      "source": [
        "mount google drive"
      ]
    },
    {
      "cell_type": "code",
      "metadata": {
        "id": "775db3jqEIdB"
      },
      "source": [
        "#mounting the google drive to access the files\n",
        "from google.colab import files\n",
        "from google.colab import drive\n",
        "drive.mount('/content/drive')"
      ],
      "execution_count": null,
      "outputs": []
    },
    {
      "cell_type": "markdown",
      "metadata": {
        "id": "sggmBGp5e7jk"
      },
      "source": [
        "physicians csv"
      ]
    },
    {
      "cell_type": "code",
      "metadata": {
        "id": "C9RyCcp_Edss"
      },
      "source": [
        "# quotechar='\"', doublequote=True, quoting=csv.QUOTE_NONNUMERIC\n",
        "phys_csv_path = \"/content/drive/My Drive/cms_19/physicians.csv\""
      ],
      "execution_count": null,
      "outputs": []
    },
    {
      "cell_type": "code",
      "metadata": {
        "id": "DKV-NxgeEIjj"
      },
      "source": [
        "# backup of clean dataframe, types will not be fully preserved so on import reassign, but easier with unconformity removed\n",
        "# df = pd.read_csv(csv_path, dtype={'Jobs Saved':int, 'NAICS Code': str, 'NAICS Category': str, }, parse_dates=[10] )\n",
        "pdf = pd.read_csv(phys_csv_path, index_col=None, header='infer',quotechar='\"', )\n",
        "\n",
        "pdf.sample(30)"
      ],
      "execution_count": null,
      "outputs": []
    },
    {
      "cell_type": "markdown",
      "metadata": {
        "id": "FG5HznNnfbeF"
      },
      "source": [
        "remove special characters preventing import in pgadmin/postgres"
      ]
    },
    {
      "cell_type": "code",
      "metadata": {
        "id": "ZmFzw3ijszFE"
      },
      "source": [
        "#need to clean up extra characters\n",
        "#import# 1086675: \"6037,KAREN,,SIMON,,,,,,227 E 19TH ST,\"8TH FLOOR, BLDG 'C'\",NEW YORK,NY,10003-2602,UNITED STATES,,All...\""
      ],
      "execution_count": null,
      "outputs": []
    },
    {
      "cell_type": "code",
      "metadata": {
        "id": "kUqFq7gszTSF"
      },
      "source": [
        "problem=pdf.iloc[[1086672]]\n",
        "problem"
      ],
      "execution_count": null,
      "outputs": []
    },
    {
      "cell_type": "code",
      "metadata": {
        "id": "AkEOmYCE3H8g"
      },
      "source": [
        "pdf['Physician_Profile_Address_Line_2']=pdf['Physician_Profile_Address_Line_2'].str.replace(r\"[\\\"\\',]\", '')"
      ],
      "execution_count": null,
      "outputs": []
    },
    {
      "cell_type": "code",
      "metadata": {
        "id": "7jrHgDAKrr4K"
      },
      "source": [
        "physid=pdf[pdf.Physician_Profile_Last_Name == 'SUMNICHT']\n",
        "physid"
      ],
      "execution_count": null,
      "outputs": []
    },
    {
      "cell_type": "code",
      "metadata": {
        "id": "hTmAc3N7F1Kn"
      },
      "source": [
        "#uncomment to check number of rows\n",
        "#len(pdf)"
      ],
      "execution_count": null,
      "outputs": []
    },
    {
      "cell_type": "code",
      "metadata": {
        "id": "1MQkxviZgkZm"
      },
      "source": [
        "# uncomment to obtain list of columns\n",
        "pdf.columns.to_list()"
      ],
      "execution_count": null,
      "outputs": []
    },
    {
      "cell_type": "code",
      "metadata": {
        "id": "MWfWen2gb3s1"
      },
      "source": [
        "#transfer dataframe to csv\n",
        "pdf.to_csv(\"/content/drive/My Drive/cms_19/physicians_clean.csv\", encoding=\"utf-8\", index=False, )\n"
      ],
      "execution_count": null,
      "outputs": []
    },
    {
      "cell_type": "code",
      "metadata": {
        "id": "3x6VT8zinwRw"
      },
      "source": [
        "own_csv_path=\"/content/drive/My Drive/cms_19/ownership.csv\""
      ],
      "execution_count": null,
      "outputs": []
    },
    {
      "cell_type": "markdown",
      "metadata": {
        "id": "BF9r_G38gF3r"
      },
      "source": [
        "ownership csv"
      ]
    },
    {
      "cell_type": "code",
      "metadata": {
        "id": "Q7mv2XhDnkpX"
      },
      "source": [
        "# sample text to import csv to dataframe with datatypes\n",
        "# df = pd.read_csv(csv_path, dtype={'Jobs Saved':int, 'NAICS Code': str, 'NAICS Category': str, }, parse_dates=[10] )\n"
      ],
      "execution_count": null,
      "outputs": []
    },
    {
      "cell_type": "code",
      "metadata": {
        "id": "dZDUNyFGgWDn"
      },
      "source": [
        "# import csv to dataframe\n",
        "own_df = pd.read_csv(own_csv_path, index_col=None, header='infer')"
      ],
      "execution_count": null,
      "outputs": []
    },
    {
      "cell_type": "code",
      "metadata": {
        "id": "kcdjNoPmpYpB"
      },
      "source": [
        "# uncomment to see sample of 50 rows\n",
        "# own_df.sample(50)"
      ],
      "execution_count": null,
      "outputs": []
    },
    {
      "cell_type": "code",
      "metadata": {
        "id": "ZVeoLHvpnkvy"
      },
      "source": [
        "# uncomment to get a list of column names\n",
        "own_df.columns.to_list()"
      ],
      "execution_count": null,
      "outputs": []
    },
    {
      "cell_type": "code",
      "metadata": {
        "id": "8lbpU889nk0v"
      },
      "source": [
        "own_df.Change_Type.value_counts()"
      ],
      "execution_count": null,
      "outputs": []
    },
    {
      "cell_type": "code",
      "metadata": {
        "id": "HVtwTDV0nk5i"
      },
      "source": [
        "## old school python get count of values 'NEW'\n",
        "counter=0\n",
        "count_of_new=0\n",
        "count_of_not_new=0\n",
        "for i in own_df.Change_Type:\n",
        "  \n",
        "  if i == 'NEW':\n",
        "    counter=counter+1\n",
        "    \n",
        "    count_of_new= count_of_new+1\n",
        "  if i != 'NEW':\n",
        "      counter=counter+1\n",
        "      count_of_not_new= count_of_not_new+1\n",
        "      \n",
        "print(f'this is the count of not new {counter}')\n",
        "print(f'this is the count of not new {count_of_new}')\n",
        "print(f'this is the count of not new {count_of_not_new}')\n"
      ],
      "execution_count": null,
      "outputs": []
    },
    {
      "cell_type": "code",
      "metadata": {
        "id": "Gj4117s7okFX"
      },
      "source": [
        "#zipcode trimmed to 5 characters\n",
        "own_df['Recipient_Zip_Code'] =  own_df['Recipient_Zip_Code'].str.split('-').str[0]"
      ],
      "execution_count": null,
      "outputs": []
    },
    {
      "cell_type": "code",
      "metadata": {
        "id": "7b3kXpZRokRV"
      },
      "source": [
        "#uncomment to see sample of 10 rows\n",
        "#own_df.sample(10)"
      ],
      "execution_count": null,
      "outputs": []
    },
    {
      "cell_type": "code",
      "metadata": {
        "id": "nxeRz1EEs5zG"
      },
      "source": [
        "#random selection of 5 rows\n",
        "own_df.sample(5)"
      ],
      "execution_count": null,
      "outputs": []
    },
    {
      "cell_type": "code",
      "metadata": {
        "id": "aw_VjuWiso9P"
      },
      "source": [
        "#clean addresses of single quote\n",
        "own_df['Recipient_Primary_Business_Street_Address_Line1']=own_df['Recipient_Primary_Business_Street_Address_Line1'].str.replace(r\"[\\\"\\',]\", '')"
      ],
      "execution_count": null,
      "outputs": []
    },
    {
      "cell_type": "code",
      "metadata": {
        "id": "sHyr9pS2sosG"
      },
      "source": [
        "#error \"NEW,122203,MATTHEW,ROSS,ALBERT,,661 E ALTAMONTE DR,SUITE 220,ALTAMONTE SPRINGS,FL,32701,United State..."
      ],
      "execution_count": null,
      "outputs": []
    },
    {
      "cell_type": "code",
      "metadata": {
        "id": "QJKbHdZHvRGj"
      },
      "source": [
        "issue=own_df[own_df.Physician_Last_Name == 'ALBERT'] \n",
        "issue"
      ],
      "execution_count": null,
      "outputs": []
    },
    {
      "cell_type": "code",
      "metadata": {
        "id": "AtIK2coWokXG"
      },
      "source": [
        "#save cleaned file for import into sql\n",
        "own_df.to_csv(\"/content/drive/My Drive/cms_19/ownership_clean.csv\", encoding=\"utf-8\", index=False, )\n"
      ],
      "execution_count": null,
      "outputs": []
    },
    {
      "cell_type": "markdown",
      "metadata": {
        "id": "F-MAD_BchN1-"
      },
      "source": [
        "research csv"
      ]
    },
    {
      "cell_type": "code",
      "metadata": {
        "id": "f--DYSZHnk-U"
      },
      "source": [
        "#import csv\n",
        "res_csv_path=\"/content/drive/My Drive/cms_19/research_payments.csv\""
      ],
      "execution_count": null,
      "outputs": []
    },
    {
      "cell_type": "code",
      "metadata": {
        "id": "_rAi4Vo2nlDc"
      },
      "source": [
        "#create dataframe\n",
        "res_df = pd.read_csv(res_csv_path, index_col=None, header='infer')\n"
      ],
      "execution_count": null,
      "outputs": []
    },
    {
      "cell_type": "code",
      "metadata": {
        "id": "Wt5HWJebvNHA"
      },
      "source": [
        "#random sample of 20 rows\n",
        "res_df.sample(20)"
      ],
      "execution_count": null,
      "outputs": []
    },
    {
      "cell_type": "code",
      "metadata": {
        "id": "lH0BtD6OvNRP"
      },
      "source": [
        "#list of column names\n",
        "res_df.columns.to_list()"
      ],
      "execution_count": null,
      "outputs": []
    },
    {
      "cell_type": "code",
      "metadata": {
        "id": "yinDSCGCvNai"
      },
      "source": [
        "#export to csv\n",
        "res_df.to_csv(\"/content/drive/My Drive/cms_19/research.csv\", encoding=\"utf-8\", index=False, )\n"
      ],
      "execution_count": null,
      "outputs": []
    }
  ]
}