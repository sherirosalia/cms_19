{
  "nbformat": 4,
  "nbformat_minor": 0,
  "metadata": {
    "colab": {
      "name": "cms_19.ipynb",
      "provenance": [],
      "private_outputs": true,
      "collapsed_sections": [],
      "authorship_tag": "ABX9TyM37KNPPEi3FdzLl5S2eqhS",
      "include_colab_link": true
    },
    "kernelspec": {
      "name": "python3",
      "display_name": "Python 3"
    }
  },
  "cells": [
    {
      "cell_type": "markdown",
      "metadata": {
        "id": "view-in-github",
        "colab_type": "text"
      },
      "source": [
        "<a href=\"https://colab.research.google.com/github/sherirosalia/cms_19/blob/main/cms_19.ipynb\" target=\"_parent\"><img src=\"https://colab.research.google.com/assets/colab-badge.svg\" alt=\"Open In Colab\"/></a>"
      ]
    },
    {
      "cell_type": "code",
      "metadata": {
        "id": "Z3ZfwZXiDlOM"
      },
      "source": [
        "#import dependencies\n",
        "import pandas as pd\n",
        "import numpy as np\n",
        "import matplotlib.pyplot as plt\n",
        "import re\n",
        "from datetime import date, datetime\n",
        "import os, sys \n",
        "import io\n",
        "import ee\n",
        "\n"
      ],
      "execution_count": null,
      "outputs": []
    },
    {
      "cell_type": "code",
      "metadata": {
        "id": "1AHCePigEIB0"
      },
      "source": [
        "## set up pandas dataframe using set_options to warn when we are working on a copy instead of ooriginal dataframe\n",
        "pd.set_option('mode.chained_assignment','warn')"
      ],
      "execution_count": null,
      "outputs": []
    },
    {
      "cell_type": "code",
      "metadata": {
        "id": "f8_7PFALEISl"
      },
      "source": [
        "# dataframe will display without being truncated\n",
        "pd.set_option('display.max_rows', 150)\n",
        "pd.set_option('display.max_columns', 25)\n",
        "pd.set_option('display.width', 768)"
      ],
      "execution_count": null,
      "outputs": []
    },
    {
      "cell_type": "code",
      "metadata": {
        "id": "775db3jqEIdB"
      },
      "source": [
        "#mounting the google drive to access the files\n",
        "from google.colab import files\n",
        "from google.colab import drive\n",
        "drive.mount('/content/drive')"
      ],
      "execution_count": null,
      "outputs": []
    },
    {
      "cell_type": "code",
      "metadata": {
        "id": "C9RyCcp_Edss"
      },
      "source": [
        "# quotechar='\"', doublequote=True, quoting=csv.QUOTE_NONNUMERIC\n",
        "phys_csv_path = \"/content/drive/My Drive/cms_19/physicians.csv\""
      ],
      "execution_count": null,
      "outputs": []
    },
    {
      "cell_type": "code",
      "metadata": {
        "id": "DKV-NxgeEIjj"
      },
      "source": [
        "# backup of clean dataframe, types will not be fully preserved so on import reassign, but easier with unconformity removed\n",
        "# df = pd.read_csv(csv_path, dtype={'Jobs Saved':int, 'NAICS Code': str, 'NAICS Category': str, }, parse_dates=[10] )\n",
        "pdf = pd.read_csv(phys_csv_path, index_col=None, header='infer',quotechar='\"', )\n",
        "\n",
        "pdf.sample(30)"
      ],
      "execution_count": null,
      "outputs": []
    },
    {
      "cell_type": "code",
      "metadata": {
        "id": "wxrkvbwfl5O2"
      },
      "source": [
        "# re.sub('[^A-Za-z0-9]+', '', mystring)"
      ],
      "execution_count": null,
      "outputs": []
    },
    {
      "cell_type": "code",
      "metadata": {
        "id": "SPyCt1RsoOJZ"
      },
      "source": [
        "# df.power.apply(lambda x: re.search(r'(\\d+) ch', x).group(1))"
      ],
      "execution_count": null,
      "outputs": []
    },
    {
      "cell_type": "code",
      "metadata": {
        "id": "arQWmZ1moORQ"
      },
      "source": [
        "# pdf['historical_rank_new']=df['historical_rank'].str.extract('(^[\\d]{1,4})')\n",
        "# df"
      ],
      "execution_count": null,
      "outputs": []
    },
    {
      "cell_type": "code",
      "metadata": {
        "id": "wNoXXteYohyB"
      },
      "source": [
        "# pdf=pdf.str.extract('[^A-Za-z0-9]+')\n",
        "# pdf"
      ],
      "execution_count": null,
      "outputs": []
    },
    {
      "cell_type": "code",
      "metadata": {
        "id": "ZmFzw3ijszFE"
      },
      "source": [
        "# 1086675: \"6037,KAREN,,SIMON,,,,,,227 E 19TH ST,\"8TH FLOOR, BLDG 'C'\",NEW YORK,NY,10003-2602,UNITED STATES,,All...\""
      ],
      "execution_count": null,
      "outputs": []
    },
    {
      "cell_type": "code",
      "metadata": {
        "id": "L4rsH2_5KznT"
      },
      "source": [
        "# CONTEXT:  COPY physician_info, line 1086675: \"7229785,ANDREW,,SUMNICHT,,,,,,\"11234 ANDERSON STREET, GME OFFICE WESTERLY SUITE 'C'\",,LOMA LINDA,CA,...\"\n",
        "\n",
        "# Physician_Profile_Address_Line_1\t\n"
      ],
      "execution_count": null,
      "outputs": []
    },
    {
      "cell_type": "code",
      "metadata": {
        "id": "kUqFq7gszTSF"
      },
      "source": [
        "problem=pdf.iloc[[1086672]]\n",
        "problem"
      ],
      "execution_count": null,
      "outputs": []
    },
    {
      "cell_type": "code",
      "metadata": {
        "id": "AkEOmYCE3H8g"
      },
      "source": [
        "pdf['Physician_Profile_Address_Line_2']=pdf['Physician_Profile_Address_Line_2'].str.replace(r\"[\\\"\\',]\", '')"
      ],
      "execution_count": null,
      "outputs": []
    },
    {
      "cell_type": "code",
      "metadata": {
        "id": "7qm9SIj7LjWI"
      },
      "source": [
        "pdf['Physician_Profile_Address_Line_1']=pdf['Physician_Profile_Address_Line_1'].str.replace(r\"[\\\"\\',]\", '')"
      ],
      "execution_count": null,
      "outputs": []
    },
    {
      "cell_type": "code",
      "metadata": {
        "id": "7jrHgDAKrr4K"
      },
      "source": [
        "physid=pdf[pdf.Physician_Profile_Last_Name == 'SUMNICHT']\n",
        "physid"
      ],
      "execution_count": null,
      "outputs": []
    },
    {
      "cell_type": "code",
      "metadata": {
        "id": "BuMbsbd1s1NT"
      },
      "source": [
        "# boston.to_csv(\"physicians.csv\", encoding=\"utf-8\", index=False, )"
      ],
      "execution_count": null,
      "outputs": []
    },
    {
      "cell_type": "code",
      "metadata": {
        "id": "hTmAc3N7F1Kn"
      },
      "source": [
        "len(pdf)"
      ],
      "execution_count": null,
      "outputs": []
    },
    {
      "cell_type": "code",
      "metadata": {
        "id": "1MQkxviZgkZm"
      },
      "source": [
        "# pdf.columns.to_list()"
      ],
      "execution_count": null,
      "outputs": []
    },
    {
      "cell_type": "code",
      "metadata": {
        "id": "MWfWen2gb3s1"
      },
      "source": [
        "pdf.to_csv(\"/content/drive/My Drive/cms_19/physicians_clean.csv\", encoding=\"utf-8\", index=False, )"
      ],
      "execution_count": null,
      "outputs": []
    },
    {
      "cell_type": "code",
      "metadata": {
        "id": "3x6VT8zinwRw"
      },
      "source": [
        "own_csv_path=\"/content/drive/My Drive/cms_19/ownership.csv\""
      ],
      "execution_count": null,
      "outputs": []
    },
    {
      "cell_type": "code",
      "metadata": {
        "id": "Q7mv2XhDnkpX"
      },
      "source": [
        "# backup of clean dataframe, types will not be fully preserved so on import reassign, but easier with unconformity removed\n",
        "# df = pd.read_csv(csv_path, dtype={'Jobs Saved':int, 'NAICS Code': str, 'NAICS Category': str, }, parse_dates=[10] )\n",
        "own_df = pd.read_csv(own_csv_path, index_col=None, header='infer')\n",
        "\n"
      ],
      "execution_count": null,
      "outputs": []
    },
    {
      "cell_type": "code",
      "metadata": {
        "id": "kcdjNoPmpYpB"
      },
      "source": [
        "own_df.sample(50)"
      ],
      "execution_count": null,
      "outputs": []
    },
    {
      "cell_type": "code",
      "metadata": {
        "id": "ZVeoLHvpnkvy"
      },
      "source": [
        "own_df.columns.to_list()"
      ],
      "execution_count": null,
      "outputs": []
    },
    {
      "cell_type": "code",
      "metadata": {
        "id": "8lbpU889nk0v"
      },
      "source": [
        "own_df.Change_Type.value_counts()"
      ],
      "execution_count": null,
      "outputs": []
    },
    {
      "cell_type": "code",
      "metadata": {
        "id": "HVtwTDV0nk5i"
      },
      "source": [
        "counter=0\n",
        "count_of_new=0\n",
        "count_of_not_new=0\n",
        "for i in own_df.Change_Type:\n",
        "  \n",
        "  if i == 'NEW':\n",
        "    counter=counter+1\n",
        "    \n",
        "    count_of_new= count_of_new+1\n",
        "  if i != 'NEW':\n",
        "      counter=counter+1\n",
        "      count_of_not_new= count_of_not_new+1\n",
        "      \n",
        "print(f'this is the count of not new {counter}')\n",
        "print(f'this is the count of not new {count_of_new}')\n",
        "print(f'this is the count of not new {count_of_not_new}')\n",
        "\n",
        "\n",
        "     \n",
        "\n",
        "    "
      ],
      "execution_count": null,
      "outputs": []
    },
    {
      "cell_type": "code",
      "metadata": {
        "id": "f--DYSZHnk-U"
      },
      "source": [
        "res_csv_path=\"/content/drive/My Drive/cms_19/research_payments.csv\""
      ],
      "execution_count": null,
      "outputs": []
    },
    {
      "cell_type": "code",
      "metadata": {
        "id": "_rAi4Vo2nlDc"
      },
      "source": [
        "res_df = pd.read_csv(res_csv_path, index_col=None, header='infer')\n"
      ],
      "execution_count": null,
      "outputs": []
    },
    {
      "cell_type": "code",
      "metadata": {
        "id": "Wt5HWJebvNHA"
      },
      "source": [
        "res_df.sample(5)"
      ],
      "execution_count": null,
      "outputs": []
    },
    {
      "cell_type": "code",
      "metadata": {
        "id": "lH0BtD6OvNRP"
      },
      "source": [
        "res_df.columns.to_list()"
      ],
      "execution_count": null,
      "outputs": []
    },
    {
      "cell_type": "code",
      "metadata": {
        "id": "yinDSCGCvNai"
      },
      "source": [
        "gen_csv_path=\"/content/drive/My Drive/cms_19/research_payments.csv\""
      ],
      "execution_count": null,
      "outputs": []
    },
    {
      "cell_type": "code",
      "metadata": {
        "id": "E-58AzXUvNNG"
      },
      "source": [
        "gen_pay_df = pd.read_csv(gen_csv_path, index_col=None, header='infer')\n"
      ],
      "execution_count": null,
      "outputs": []
    },
    {
      "cell_type": "code",
      "metadata": {
        "id": "9ahtCAIfwUNN"
      },
      "source": [
        "gen_pay_df.sample(5)"
      ],
      "execution_count": null,
      "outputs": []
    },
    {
      "cell_type": "code",
      "metadata": {
        "id": "yiSM0WoiwUhX"
      },
      "source": [
        "gen_pay_df.columns.to_list()"
      ],
      "execution_count": null,
      "outputs": []
    }
  ]
}