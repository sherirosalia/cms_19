{
  "nbformat": 4,
  "nbformat_minor": 0,
  "metadata": {
    "colab": {
      "name": "cms_19.ipynb",
      "provenance": [],
      "private_outputs": true,
      "collapsed_sections": [],
      "authorship_tag": "ABX9TyOx6qbxkLz01AboJG+3bqyh"
    },
    "kernelspec": {
      "name": "python3",
      "display_name": "Python 3"
    }
  },
  "cells": [
    {
      "cell_type": "code",
      "metadata": {
        "id": "Z3ZfwZXiDlOM"
      },
      "source": [
        "#import dependencies\n",
        "import pandas as pd\n",
        "import numpy as np\n",
        "import matplotlib.pyplot as plt\n",
        "\n",
        "from datetime import date, datetime\n",
        "import os, sys \n",
        "import io\n",
        "import ee\n",
        "\n"
      ],
      "execution_count": null,
      "outputs": []
    },
    {
      "cell_type": "code",
      "metadata": {
        "id": "1AHCePigEIB0"
      },
      "source": [
        "## set up pandas dataframe using set_options to warn when we are working on a copy instead of ooriginal dataframe\n",
        "pd.set_option('mode.chained_assignment','warn')"
      ],
      "execution_count": null,
      "outputs": []
    },
    {
      "cell_type": "code",
      "metadata": {
        "id": "f8_7PFALEISl"
      },
      "source": [
        "# dataframe will display without being truncated\n",
        "pd.set_option('display.max_rows', 150)\n",
        "pd.set_option('display.max_columns', 25)\n",
        "pd.set_option('display.width', 768)"
      ],
      "execution_count": null,
      "outputs": []
    },
    {
      "cell_type": "code",
      "metadata": {
        "id": "775db3jqEIdB"
      },
      "source": [
        "#mounting the google drive to access the files\n",
        "from google.colab import files\n",
        "from google.colab import drive\n",
        "drive.mount('/content/drive')"
      ],
      "execution_count": null,
      "outputs": []
    },
    {
      "cell_type": "code",
      "metadata": {
        "id": "C9RyCcp_Edss"
      },
      "source": [
        "\n",
        "phys_csv_path = \"/content/drive/My Drive/cms_19/physicians.csv\""
      ],
      "execution_count": null,
      "outputs": []
    },
    {
      "cell_type": "code",
      "metadata": {
        "id": "DKV-NxgeEIjj"
      },
      "source": [
        "# backup of clean dataframe, types will not be fully preserved so on import reassign, but easier with unconformity removed\n",
        "# df = pd.read_csv(csv_path, dtype={'Jobs Saved':int, 'NAICS Code': str, 'NAICS Category': str, }, parse_dates=[10] )\n",
        "pdf = pd.read_csv(phys_csv_path, index_col=None, header='infer')\n",
        "\n",
        "pdf.sample(30)"
      ],
      "execution_count": null,
      "outputs": []
    },
    {
      "cell_type": "code",
      "metadata": {
        "id": "hTmAc3N7F1Kn"
      },
      "source": [
        "len(pdf)"
      ],
      "execution_count": null,
      "outputs": []
    },
    {
      "cell_type": "code",
      "metadata": {
        "id": "1MQkxviZgkZm"
      },
      "source": [
        "pdf.columns.to_list()"
      ],
      "execution_count": null,
      "outputs": []
    },
    {
      "cell_type": "code",
      "metadata": {
        "id": "3x6VT8zinwRw"
      },
      "source": [
        "own_csv_path=\"/content/drive/My Drive/cms_19/ownership.csv\""
      ],
      "execution_count": null,
      "outputs": []
    },
    {
      "cell_type": "code",
      "metadata": {
        "id": "Q7mv2XhDnkpX"
      },
      "source": [
        "# backup of clean dataframe, types will not be fully preserved so on import reassign, but easier with unconformity removed\n",
        "# df = pd.read_csv(csv_path, dtype={'Jobs Saved':int, 'NAICS Code': str, 'NAICS Category': str, }, parse_dates=[10] )\n",
        "own_df = pd.read_csv(own_csv_path, index_col=None, header='infer')\n",
        "\n"
      ],
      "execution_count": null,
      "outputs": []
    },
    {
      "cell_type": "code",
      "metadata": {
        "id": "kcdjNoPmpYpB"
      },
      "source": [
        "own_df.sample(50)"
      ],
      "execution_count": null,
      "outputs": []
    },
    {
      "cell_type": "code",
      "metadata": {
        "id": "ZVeoLHvpnkvy"
      },
      "source": [
        "own_df.columns.to_list()"
      ],
      "execution_count": null,
      "outputs": []
    },
    {
      "cell_type": "code",
      "metadata": {
        "id": "8lbpU889nk0v"
      },
      "source": [
        "own_df.Change_Type.value_counts()"
      ],
      "execution_count": null,
      "outputs": []
    },
    {
      "cell_type": "code",
      "metadata": {
        "id": "HVtwTDV0nk5i"
      },
      "source": [
        "counter=0\n",
        "count_of_new=0\n",
        "count_of_not_new=0\n",
        "for i in own_df.Change_Type:\n",
        "  \n",
        "  if i == 'NEW':\n",
        "    counter=counter+1\n",
        "    \n",
        "    count_of_new= count_of_new+1\n",
        "  if i != 'NEW':\n",
        "      counter=counter+1\n",
        "      count_of_not_new= count_of_not_new+1\n",
        "      \n",
        "print(f'this is the count of not new {counter}')\n",
        "print(f'this is the count of not new {count_of_new}')\n",
        "print(f'this is the count of not new {count_of_not_new}')\n",
        "\n",
        "\n",
        "     \n",
        "\n",
        "    "
      ],
      "execution_count": null,
      "outputs": []
    },
    {
      "cell_type": "code",
      "metadata": {
        "id": "f--DYSZHnk-U"
      },
      "source": [
        "res_csv_path=\"/content/drive/My Drive/cms_19/research_payments.csv\""
      ],
      "execution_count": null,
      "outputs": []
    },
    {
      "cell_type": "code",
      "metadata": {
        "id": "_rAi4Vo2nlDc"
      },
      "source": [
        "res_df = pd.read_csv(res_csv_path, index_col=None, header='infer')\n"
      ],
      "execution_count": null,
      "outputs": []
    },
    {
      "cell_type": "code",
      "metadata": {
        "id": "Wt5HWJebvNHA"
      },
      "source": [
        "res_df.sample(5)"
      ],
      "execution_count": null,
      "outputs": []
    },
    {
      "cell_type": "code",
      "metadata": {
        "id": "lH0BtD6OvNRP"
      },
      "source": [
        "res_df.columns.to_list()"
      ],
      "execution_count": null,
      "outputs": []
    },
    {
      "cell_type": "code",
      "metadata": {
        "id": "yinDSCGCvNai"
      },
      "source": [
        "gen_csv_path=\"/content/drive/My Drive/cms_19/research_payments.csv\""
      ],
      "execution_count": null,
      "outputs": []
    },
    {
      "cell_type": "code",
      "metadata": {
        "id": "E-58AzXUvNNG"
      },
      "source": [
        "gen_pay_df = pd.read_csv(gen_csv_path, index_col=None, header='infer')\n"
      ],
      "execution_count": null,
      "outputs": []
    },
    {
      "cell_type": "code",
      "metadata": {
        "id": "9ahtCAIfwUNN"
      },
      "source": [
        "gen_pay_df.sample(5)"
      ],
      "execution_count": null,
      "outputs": []
    },
    {
      "cell_type": "code",
      "metadata": {
        "id": "yiSM0WoiwUhX"
      },
      "source": [
        "gen_pay_df.columns.to_list()"
      ],
      "execution_count": null,
      "outputs": []
    }
  ]
}