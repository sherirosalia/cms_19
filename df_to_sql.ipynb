{
  "nbformat": 4,
  "nbformat_minor": 0,
  "metadata": {
    "colab": {
      "name": "df_to_sql.ipynb",
      "provenance": [],
      "private_outputs": true,
      "authorship_tag": "ABX9TyPJ//BBDBBmu122oKfEq4HP",
      "include_colab_link": true
    },
    "kernelspec": {
      "name": "python3",
      "display_name": "Python 3"
    }
  },
  "cells": [
    {
      "cell_type": "markdown",
      "metadata": {
        "id": "view-in-github",
        "colab_type": "text"
      },
      "source": [
        "<a href=\"https://colab.research.google.com/github/sherirosalia/cms_19/blob/main/df_to_sql.ipynb\" target=\"_parent\"><img src=\"https://colab.research.google.com/assets/colab-badge.svg\" alt=\"Open In Colab\"/></a>"
      ]
    },
    {
      "cell_type": "code",
      "metadata": {
        "id": "DyYhgIq4PfBo"
      },
      "source": [
        "#import dependencies\n",
        "import pandas as pd\n",
        "import numpy as np\n",
        "import matplotlib.pyplot as plt\n",
        "import re\n",
        "from datetime import date, datetime\n",
        "import os, sys \n",
        "import io\n",
        "import ee\n",
        "# import config \n",
        "# from config import db_password\n",
        "from sqlalchemy import create_engine\n",
        "from sqlalchemy.ext.automap import automap_base\n",
        "from sqlalchemy.orm import session\n",
        "from sqlalchemy import func\n",
        "import psycopg2\n",
        "\n",
        "\n"
      ],
      "execution_count": null,
      "outputs": []
    },
    {
      "cell_type": "code",
      "metadata": {
        "id": "rhqW-l97Rwlk"
      },
      "source": [
        "db_password = \"Sw33tdre@m$\""
      ],
      "execution_count": null,
      "outputs": []
    },
    {
      "cell_type": "code",
      "metadata": {
        "id": "sBKsgm2vRwuU"
      },
      "source": [
        "## set up pandas dataframe using set_options to warn when we are working on a copy instead of ooriginal dataframe\n",
        "pd.set_option('mode.chained_assignment','warn')"
      ],
      "execution_count": null,
      "outputs": []
    },
    {
      "cell_type": "code",
      "metadata": {
        "id": "b-A-V19lRwx-"
      },
      "source": [
        "# dataframe will display without being truncated\n",
        "pd.set_option('display.max_rows', 150)\n",
        "pd.set_option('display.max_columns', 25)\n",
        "pd.set_option('display.width', 768)"
      ],
      "execution_count": null,
      "outputs": []
    },
    {
      "cell_type": "code",
      "metadata": {
        "id": "PtDx6ATERw04"
      },
      "source": [
        "#mounting the google drive to access the files\n",
        "from google.colab import files\n",
        "from google.colab import drive\n",
        "drive.mount('/content/drive')"
      ],
      "execution_count": null,
      "outputs": []
    },
    {
      "cell_type": "code",
      "metadata": {
        "id": "5medX_TQRw3u"
      },
      "source": [
        "res_csv_path=\"/content/drive/My Drive/cms_19/research_payments.csv\""
      ],
      "execution_count": null,
      "outputs": []
    },
    {
      "cell_type": "code",
      "metadata": {
        "id": "k6GqTIk5Rw64"
      },
      "source": [
        "res_df = pd.read_csv(res_csv_path, index_col=None, header='infer')"
      ],
      "execution_count": null,
      "outputs": []
    },
    {
      "cell_type": "code",
      "metadata": {
        "id": "s9oWJ0HZRw9r"
      },
      "source": [
        "res_df.sample(5)"
      ],
      "execution_count": null,
      "outputs": []
    }
  ]
}