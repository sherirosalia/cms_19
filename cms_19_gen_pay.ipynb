{
  "nbformat": 4,
  "nbformat_minor": 0,
  "metadata": {
    "colab": {
      "name": "cms_19_gen_pay.ipynb",
      "provenance": [],
      "private_outputs": true,
      "collapsed_sections": [],
      "machine_shape": "hm",
      "authorship_tag": "ABX9TyO8eRz0KCLtEwH+NC+VvSSL",
      "include_colab_link": true
    },
    "kernelspec": {
      "name": "python3",
      "display_name": "Python 3"
    },
    "accelerator": "GPU"
  },
  "cells": [
    {
      "cell_type": "markdown",
      "metadata": {
        "id": "view-in-github",
        "colab_type": "text"
      },
      "source": [
        "<a href=\"https://colab.research.google.com/github/sherirosalia/cms_19/blob/main/cms_19_gen_pay.ipynb\" target=\"_parent\"><img src=\"https://colab.research.google.com/assets/colab-badge.svg\" alt=\"Open In Colab\"/></a>"
      ]
    },
    {
      "cell_type": "code",
      "metadata": {
        "id": "Z3ZfwZXiDlOM"
      },
      "source": [
        "#import dependencies\n",
        "import pandas as pd\n",
        "import numpy as np\n",
        "import matplotlib.pyplot as plt\n",
        "import re\n",
        "from datetime import date, datetime\n",
        "import os, sys \n",
        "import io\n",
        "import ee\n",
        "import os\n",
        "\n"
      ],
      "execution_count": null,
      "outputs": []
    },
    {
      "cell_type": "code",
      "metadata": {
        "id": "e0YxaghrYrGM"
      },
      "source": [
        ""
      ],
      "execution_count": null,
      "outputs": []
    },
    {
      "cell_type": "code",
      "metadata": {
        "id": "1AHCePigEIB0"
      },
      "source": [
        "## set up pandas dataframe using set_options to warn when we are working on a copy instead of ooriginal dataframe\n",
        "pd.set_option('mode.chained_assignment','warn')"
      ],
      "execution_count": null,
      "outputs": []
    },
    {
      "cell_type": "code",
      "metadata": {
        "id": "f8_7PFALEISl"
      },
      "source": [
        "# dataframe will display without being truncated\n",
        "pd.set_option('display.max_rows', 150)\n",
        "pd.set_option('display.max_columns', 100)\n",
        "# pd.set_option('display.width', 768)"
      ],
      "execution_count": null,
      "outputs": []
    },
    {
      "cell_type": "code",
      "metadata": {
        "id": "775db3jqEIdB"
      },
      "source": [
        "#mounting the google drive to access the files\n",
        "from google.colab import files\n",
        "from google.colab import drive\n",
        "drive.mount('/content/drive')"
      ],
      "execution_count": null,
      "outputs": []
    },
    {
      "cell_type": "code",
      "metadata": {
        "id": "wxrkvbwfl5O2"
      },
      "source": [
        "#sample regex to reference \n",
        "# re.sub('[^A-Za-z0-9]+', '', mystring)\n",
        "# df.power.apply(lambda x: re.search(r'(\\d+) ch', x).group(1))\n",
        "# df['historical_rank_new']=df['historical_rank'].str.extract('(^[\\d]{1,4})')\n",
        "# df=df.str.extract('[^A-Za-z0-9]+')\n",
        "# df"
      ],
      "execution_count": null,
      "outputs": []
    },
    {
      "cell_type": "code",
      "metadata": {
        "id": "ZmFzw3ijszFE"
      },
      "source": [
        "#need to clean up extra characters\n",
        "#import# 1086675: \"6037,KAREN,,SIMON,,,,,,227 E 19TH ST,\"8TH FLOOR, BLDG 'C'\",NEW YORK,NY,10003-2602,UNITED STATES,,All...\""
      ],
      "execution_count": null,
      "outputs": []
    },
    {
      "cell_type": "code",
      "metadata": {
        "id": "kUqFq7gszTSF"
      },
      "source": [
        "# problem=pdf.iloc[[1086672]]\n",
        "# problem"
      ],
      "execution_count": null,
      "outputs": []
    },
    {
      "cell_type": "code",
      "metadata": {
        "id": "9TkrWyK-msLo"
      },
      "source": [
        ""
      ],
      "execution_count": null,
      "outputs": []
    },
    {
      "cell_type": "markdown",
      "metadata": {
        "id": "Ph7hx91imt15"
      },
      "source": [
        "regex remove single quotes to make import into sql easier"
      ]
    },
    {
      "cell_type": "code",
      "metadata": {
        "id": "7qm9SIj7LjWI"
      },
      "source": [
        "# pdf['Physician_Profile_Address_Line_1']=pdf['Physician_Profile_Address_Line_1'].str.replace(r\"[\\\"\\',]\", '')"
      ],
      "execution_count": null,
      "outputs": []
    },
    {
      "cell_type": "code",
      "metadata": {
        "id": "7jrHgDAKrr4K"
      },
      "source": [
        "# physid=pdf[pdf.Physician_Profile_Last_Name == 'SUMNICHT']\n",
        "# physid"
      ],
      "execution_count": null,
      "outputs": []
    },
    {
      "cell_type": "code",
      "metadata": {
        "id": "BuMbsbd1s1NT"
      },
      "source": [
        "# boston.to_csv(\"physicians.csv\", encoding=\"utf-8\", index=False, )"
      ],
      "execution_count": null,
      "outputs": []
    },
    {
      "cell_type": "code",
      "metadata": {
        "id": "yinDSCGCvNai"
      },
      "source": [
        "gen_csv_path=\"/content/drive/My Drive/cms_19/general_payments.csv\""
      ],
      "execution_count": null,
      "outputs": []
    },
    {
      "cell_type": "code",
      "metadata": {
        "id": "E-58AzXUvNNG"
      },
      "source": [
        "gen_pay_df = pd.read_csv(gen_csv_path, index_col=None, dtype=str, header='infer', )\n"
      ],
      "execution_count": null,
      "outputs": []
    },
    {
      "cell_type": "code",
      "metadata": {
        "id": "9ahtCAIfwUNN"
      },
      "source": [
        "#uncomment to get 30 row sample\n",
        "# gen_pay_df.sample(30)"
      ],
      "execution_count": null,
      "outputs": []
    },
    {
      "cell_type": "code",
      "metadata": {
        "id": "yiSM0WoiwUhX"
      },
      "source": [
        "#uncomment for list of columns\n",
        "# gen_pay_df.columns.to_list()"
      ],
      "execution_count": null,
      "outputs": []
    },
    {
      "cell_type": "markdown",
      "metadata": {
        "id": "Eaywh9_BnbEY"
      },
      "source": [
        "Clean up general payments file\n",
        "\n"
      ]
    },
    {
      "cell_type": "code",
      "metadata": {
        "id": "IOKfdc7jNVKi"
      },
      "source": [
        "covered = gen_pay_df['Covered_Recipient_Type'].value_counts()\n",
        "covered"
      ],
      "execution_count": null,
      "outputs": []
    },
    {
      "cell_type": "code",
      "metadata": {
        "id": "RQWdcLXWNjXc"
      },
      "source": [
        "# In [11]: df['n'].replace({'a': 'x', 'b': 'y', 'c': 'w', 'd': 'z'})"
      ],
      "execution_count": null,
      "outputs": []
    },
    {
      "cell_type": "code",
      "metadata": {
        "id": "cwcKwq5ANjPh"
      },
      "source": [
        "#rename values in covered recipient column\n",
        "gen_pay_df['Covered_Recipient_Type']=gen_pay_df.replace({'Covered Recipient Physician':'Physician', 'Covered Recipient Teaching Hospital':'Hospital'})\n"
      ],
      "execution_count": null,
      "outputs": []
    },
    {
      "cell_type": "code",
      "metadata": {
        "id": "C36_UNX8ZZ7d"
      },
      "source": [
        "len(gen_pay_df)"
      ],
      "execution_count": null,
      "outputs": []
    },
    {
      "cell_type": "code",
      "metadata": {
        "id": "q6HnmjW5N-p4"
      },
      "source": [
        "gen_pay_df.sample()"
      ],
      "execution_count": null,
      "outputs": []
    },
    {
      "cell_type": "code",
      "metadata": {
        "id": "hfAn0SugZZq_"
      },
      "source": [
        "gen_pay_df.isnull().sum()"
      ],
      "execution_count": null,
      "outputs": []
    },
    {
      "cell_type": "markdown",
      "metadata": {
        "id": "TOBGdYL479_w"
      },
      "source": [
        "create table to document travel payments to physicians\n",
        "uncomment out to produce"
      ]
    },
    {
      "cell_type": "code",
      "metadata": {
        "id": "dspLPjIeZaGn"
      },
      "source": [
        "# travel_df=gen_pay_df[gen_pay_df['State_of_Travel'].notnull()]\n",
        "# travel_df.sample(5)"
      ],
      "execution_count": null,
      "outputs": []
    },
    {
      "cell_type": "code",
      "metadata": {
        "id": "tzFGDLarZaQ4"
      },
      "source": [
        "# len(travel_df)\n"
      ],
      "execution_count": null,
      "outputs": []
    },
    {
      "cell_type": "code",
      "metadata": {
        "id": "uDH16Ys8gcAb"
      },
      "source": [
        "# travel_df.dropna(how='any', axis=1,inplace=True)\n"
      ],
      "execution_count": null,
      "outputs": []
    },
    {
      "cell_type": "code",
      "metadata": {
        "id": "Epz9H1VrgcOq"
      },
      "source": [
        "# len(travel_df)"
      ],
      "execution_count": null,
      "outputs": []
    },
    {
      "cell_type": "code",
      "metadata": {
        "id": "lY-tzn5utR5R"
      },
      "source": [
        "# travel_df.sample(3)"
      ],
      "execution_count": null,
      "outputs": []
    },
    {
      "cell_type": "code",
      "metadata": {
        "id": "aB5y_KiOtZRj"
      },
      "source": [
        "# travel_df.columns.to_list()"
      ],
      "execution_count": null,
      "outputs": []
    },
    {
      "cell_type": "code",
      "metadata": {
        "id": "mDLI8zSotfI6"
      },
      "source": [
        "# travel_df.to_csv('/content/drive/My Drive/cms_19/travel.csv', index=False,)"
      ],
      "execution_count": null,
      "outputs": []
    },
    {
      "cell_type": "markdown",
      "metadata": {
        "id": "0RQSsC2n74Tg"
      },
      "source": [
        "Return to general payments"
      ]
    },
    {
      "cell_type": "code",
      "metadata": {
        "id": "RpJGn761X03w"
      },
      "source": [
        ""
      ],
      "execution_count": null,
      "outputs": []
    },
    {
      "cell_type": "code",
      "metadata": {
        "id": "bGxIvJhnwzb4"
      },
      "source": [
        "len(gen_pay_df)\n"
      ],
      "execution_count": null,
      "outputs": []
    },
    {
      "cell_type": "code",
      "metadata": {
        "id": "KZLS7nSwwdTU"
      },
      "source": [
        "# drop change type column - only one value \"New\"\n",
        "gen_pay_df.drop('Change_Type', axis=1, inplace=True)"
      ],
      "execution_count": null,
      "outputs": []
    },
    {
      "cell_type": "code",
      "metadata": {
        "id": "UgqxGWJhwQDl"
      },
      "source": [
        "if 'Change_Type' in gen_pay_df:\n",
        "  print('true')\n",
        "else:\n",
        "  print('nope')"
      ],
      "execution_count": null,
      "outputs": []
    },
    {
      "cell_type": "code",
      "metadata": {
        "id": "X87xeKzN3LMj"
      },
      "source": [
        "# df.dropna(subset=['Value1','Value2','Value3'], how='all',inplace=True)\n",
        "len(gen_pay_df)"
      ],
      "execution_count": null,
      "outputs": []
    },
    {
      "cell_type": "code",
      "metadata": {
        "id": "TQdd9B4-3Laj"
      },
      "source": [
        "# gen_pay_df.dropna(subset=['Teaching_Hospital_CCN', 'Teaching_Hospital_ID', 'Teaching_Hospital_Name', \n",
        "#                           'Physician_Name_Suffix','Recipient_Province','Recipient_Postal_Code',\n",
        " \n",
        "#                           ], axis=0, how='all',inplace=True)"
      ],
      "execution_count": null,
      "outputs": []
    },
    {
      "cell_type": "code",
      "metadata": {
        "id": "IhbvbyyvAu4l"
      },
      "source": [
        "gen_pay_df.drop(['Teaching_Hospital_CCN', 'Teaching_Hospital_ID', 'Teaching_Hospital_Name', \n",
        "                          'Physician_Name_Suffix','Recipient_Province','Recipient_Postal_Code',\n",
        "                          'Physician_License_State_code3', 'Physician_License_State_code4',\n",
        "                          'Physician_License_State_code5', 'City_of_Travel', 'State_of_Travel', \n",
        "                          'Country_of_Travel', 'Name_of_Third_Party_Entity_Receiving_Payment_or_Transfer_of_Value',\n",
        "                          'Third_Party_Equals_Covered_Recipient_Indicator', 'Contextual_Information', \n",
        "                          ], axis=1, inplace=True)"
      ],
      "execution_count": null,
      "outputs": []
    },
    {
      "cell_type": "code",
      "metadata": {
        "id": "rrqH1pJxwjLB"
      },
      "source": [
        "# len(gen_pay_df)\n",
        "# gen_pay_df['Number_of_Payments_Included_in_Total_Amount'].value_counts()\n",
        "gen_pay_df['Third_Party_Payment_Recipient_Indicator'].value_counts()"
      ],
      "execution_count": null,
      "outputs": []
    },
    {
      "cell_type": "code",
      "metadata": {
        "id": "iwJp7tzMFVl5"
      },
      "source": [
        "gen_pay_df.drop(['Physician_Middle_Name', 'Recipient_Primary_Business_Street_Address_Line2', 'Physician_License_State_code2', \n",
        "                          'Third_Party_Payment_Recipient_Indicator','Delay_in_Publication_Indicator','Covered_or_Noncovered_Indicator_2',\n",
        "                          'Indicate_Drug_or_Biological_or_Device_or_Medical_Supply_2', 'Product_Category_or_Therapeutic_Area_2',\n",
        "                          'Name_of_Drug_or_Biological_or_Device_or_Medical_Supply_2', 'Associated_Drug_or_Biological_NDC_2', 'Covered_or_Noncovered_Indicator_3', \n",
        "                          'Indicate_Drug_or_Biological_or_Device_or_Medical_Supply_3', 'Product_Category_or_Therapeutic_Area_3',\n",
        "                          'Name_of_Drug_or_Biological_or_Device_or_Medical_Supply_3', 'Associated_Drug_or_Biological_NDC_3', 'Covered_or_Noncovered_Indicator_4',\n",
        "                          'Indicate_Drug_or_Biological_or_Device_or_Medical_Supply_4', 'Product_Category_or_Therapeutic_Area_4', 'Name_of_Drug_or_Biological_or_Device_or_Medical_Supply_4',\n",
        "                          'Associated_Drug_or_Biological_NDC_4', 'Covered_or_Noncovered_Indicator_5', 'Indicate_Drug_or_Biological_or_Device_or_Medical_Supply_5', \n",
        "                          'Product_Category_or_Therapeutic_Area_5', 'Name_of_Drug_or_Biological_or_Device_or_Medical_Supply_5','Associated_Drug_or_Biological_NDC_5'], axis=1, inplace=True)"
      ],
      "execution_count": null,
      "outputs": []
    },
    {
      "cell_type": "code",
      "metadata": {
        "id": "TsGWouZNw3ar"
      },
      "source": [
        "gen_pay_df.sample(3)"
      ],
      "execution_count": null,
      "outputs": []
    },
    {
      "cell_type": "code",
      "metadata": {
        "id": "iDpfG8Dpw3lK"
      },
      "source": [
        "gen_pay_df.columns.to_list()"
      ],
      "execution_count": null,
      "outputs": []
    },
    {
      "cell_type": "code",
      "metadata": {
        "id": "qblNQdD-T8Dy"
      },
      "source": [
        "# remove misc '\n",
        "gen_pay_df['Recipient_Primary_Business_Street_Address_Line1']=gen_pay_df['Recipient_Primary_Business_Street_Address_Line1'].str.replace(r\"[\\\"\\',]\", '')"
      ],
      "execution_count": null,
      "outputs": []
    },
    {
      "cell_type": "code",
      "metadata": {
        "id": "DQB8zaSEnaqR"
      },
      "source": [
        "# split\n",
        "gen_pay_df['Phys_Specialty'] = gen_pay_df['Physician_Specialty'].str.split('|').str[1:3]"
      ],
      "execution_count": null,
      "outputs": []
    },
    {
      "cell_type": "code",
      "metadata": {
        "id": "pm60RBgaVPR_"
      },
      "source": [
        "gen_pay_df.sample()"
      ],
      "execution_count": null,
      "outputs": []
    },
    {
      "cell_type": "code",
      "metadata": {
        "id": "c_eAgy4JBVls"
      },
      "source": [
        "gen_pay_df['Applicable_Manufacturer_or_Applicable_GPO_Making_Payment_Name'].value_counts()"
      ],
      "execution_count": null,
      "outputs": []
    },
    {
      "cell_type": "code",
      "metadata": {
        "id": "FxG1AzDzoMIl"
      },
      "source": [
        "gen_pay_df['Physician_Specialty'].value_counts()"
      ],
      "execution_count": null,
      "outputs": []
    },
    {
      "cell_type": "code",
      "metadata": {
        "id": "Rb0fEdz-olkH"
      },
      "source": [
        "gen_pay_df['Physician_Specialty'].value_counts()\n"
      ],
      "execution_count": null,
      "outputs": []
    },
    {
      "cell_type": "code",
      "metadata": {
        "id": "WeOMv04nrslb"
      },
      "source": [
        "vc = gen_pay_df['Physician_Specialty'].value_counts()\n"
      ],
      "execution_count": null,
      "outputs": []
    },
    {
      "cell_type": "code",
      "metadata": {
        "id": "Zvl2Yz1drsxT"
      },
      "source": [
        "#many categories, not sure what I want to do long term with this column\n",
        "# vc[vc > 20000].index[0:20]\n",
        "vc[vc > 2000] "
      ],
      "execution_count": null,
      "outputs": []
    },
    {
      "cell_type": "code",
      "metadata": {
        "id": "Ika1A9f7rs9U"
      },
      "source": [
        "gen_pay_df.describe()"
      ],
      "execution_count": null,
      "outputs": []
    },
    {
      "cell_type": "code",
      "metadata": {
        "id": "chB8r_vuM3Kw"
      },
      "source": [
        ""
      ],
      "execution_count": null,
      "outputs": []
    },
    {
      "cell_type": "code",
      "metadata": {
        "id": "cSbn82FDM3A2"
      },
      "source": [
        "gen_pay_df.sample()"
      ],
      "execution_count": null,
      "outputs": []
    },
    {
      "cell_type": "code",
      "metadata": {
        "id": "GSvBstLpM2rm"
      },
      "source": [
        "gen_pay_df.rename(columns={'Recipient_Primary_Business_Street_Address_Line1': 'Recipient_Street_Address'}, inplace=True)"
      ],
      "execution_count": null,
      "outputs": []
    },
    {
      "cell_type": "code",
      "metadata": {
        "id": "L4afBKxsM3QS"
      },
      "source": [
        "gen_pay_df.to_csv('/content/drive/My Drive/cms_19/payments.csv', index=False, header=True, )"
      ],
      "execution_count": null,
      "outputs": []
    },
    {
      "cell_type": "code",
      "metadata": {
        "id": "b5DJh0yCQZqe"
      },
      "source": [
        "#sample regex to reference \n",
        "# re.sub('[^A-Za-z0-9]+', '', mystring)\n",
        "# df.power.apply(lambda x: re.search(r'(\\d+) ch', x).group(1))\n",
        "# df['historical_rank_new']=df['historical_rank'].str.extract('(^[\\d]{1,4})')\n",
        "# df=df.str.extract('[^A-Za-z0-9]+')\n",
        "# df\n",
        "\n",
        "#Physician_Specialty"
      ],
      "execution_count": null,
      "outputs": []
    }
  ]
}